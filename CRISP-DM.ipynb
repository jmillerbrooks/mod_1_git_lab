{
 "cells": [
  {
   "cell_type": "markdown",
   "metadata": {},
   "source": [
    "# CRISP-DM Check-in"
   ]
  },
  {
   "cell_type": "markdown",
   "metadata": {},
   "source": [
    "## Business Understanding"
   ]
  },
  {
   "cell_type": "markdown",
   "metadata": {},
   "source": [
    "### Have you clearly defined your goal for your analysis?\n",
    "Goal is to identify profitability patterns within genres and at different levels of investment (budget)\n",
    "\n",
    "### Have your thought about who your audience is and how they would use this information?\n",
    "Our audience is hypothetical Microsoft execs. They would use this information to make an informed decision about market entry into the movie business, and potentially develop a scalable strategy for their investment, or to be aware of the scalability issues when making their initial spend if there does not appear to be natural scalability.\n",
    "\n",
    "### How does this help the goals of the business/organization?\n",
    "Microsoft lists their company values on this <a href=\"https://www.microsoft.com/en-us/about/values\">page.</a> Aside from the natural leveraging of Microsoft's existing strengths in AI and innovation in a new industry, an entry into the movie business would help Microsoft to propagate their vision of Diversity and Inclusion, and corporate social responsibility.  If there are formats we can identify to do this in a profitable manner, Microsoft would be able to further their goals in a sustainable way, rather than carrying this proposed segment of their business as an ongoing expense."
   ]
  },
  {
   "cell_type": "markdown",
   "metadata": {},
   "source": [
    "## Data Understanding\n",
    "\n",
    "### What data are you using?\n",
    "We are primarily using the imdb title basics, and the tn movie budgets. Time permitting we may also use title principals or title crew to identify studios and individuals that Microsoft may be able to work with within the categories we present.\n",
    "\n",
    "### How does your data help you answer the business question?\n",
    "Any business will be ultimately focused on profitability. Though there were other sources that addressed gross revenue, the tn movie budgets set was the only source we found that included information on the spend for each movie. By choosing this set we sought to answer questions of profitability first and foremost. We joined this set to imdb movies in order to also explore the same questions about profitability within the framework of genre information that was provided by the imdb set. If there are patterns of profitability that we can see clearly within genre, we will then use the imdb movie data in conjunction with the crew or principals sets in order to identify players in each context with whom Microsoft could partner.\n",
    "\n",
    "### How many observations does your dataset contain?\n",
    "The joined dataset contains 1547 observations in \"wide\" form with one distinct movie per row. We are also experimenting with a longer \"exploded\" format which contains 3887 observations (this is due to movies being listed with multiple genres, demonstrated below):"
   ]
  },
  {
   "cell_type": "code",
   "execution_count": 23,
   "metadata": {},
   "outputs": [
    {
     "name": "stdout",
     "output_type": "stream",
     "text": [
      "<class 'pandas.core.frame.DataFrame'>\n",
      "Int64Index: 1547 entries, 0 to 1546\n",
      "Data columns (total 16 columns):\n",
      " #   Column             Non-Null Count  Dtype  \n",
      "---  ------             --------------  -----  \n",
      " 0   id                 1547 non-null   int64  \n",
      " 1   release_date       1547 non-null   object \n",
      " 2   movie              1547 non-null   object \n",
      " 3   production_budget  1547 non-null   float64\n",
      " 4   domestic_gross     1547 non-null   float64\n",
      " 5   worldwide_gross    1547 non-null   float64\n",
      " 6   year               1547 non-null   int64  \n",
      " 7   domestic_profit    1547 non-null   float64\n",
      " 8   worldwide_profit   1547 non-null   float64\n",
      " 9   tconst             1547 non-null   object \n",
      " 10  primary_title      1547 non-null   object \n",
      " 11  original_title     1547 non-null   object \n",
      " 12  start_year         1547 non-null   int64  \n",
      " 13  runtime_minutes    1521 non-null   float64\n",
      " 14  genres             1541 non-null   object \n",
      " 15  genre_list         1541 non-null   object \n",
      "dtypes: float64(6), int64(3), object(7)\n",
      "memory usage: 205.5+ KB\n",
      "None\n",
      "<class 'pandas.core.frame.DataFrame'>\n",
      "Int64Index: 3887 entries, 0 to 1546\n",
      "Data columns (total 16 columns):\n",
      " #   Column             Non-Null Count  Dtype  \n",
      "---  ------             --------------  -----  \n",
      " 0   id                 3887 non-null   int64  \n",
      " 1   release_date       3887 non-null   object \n",
      " 2   movie              3887 non-null   object \n",
      " 3   production_budget  3887 non-null   float64\n",
      " 4   domestic_gross     3887 non-null   float64\n",
      " 5   worldwide_gross    3887 non-null   float64\n",
      " 6   year               3887 non-null   int64  \n",
      " 7   domestic_profit    3887 non-null   float64\n",
      " 8   worldwide_profit   3887 non-null   float64\n",
      " 9   tconst             3887 non-null   object \n",
      " 10  primary_title      3887 non-null   object \n",
      " 11  original_title     3887 non-null   object \n",
      " 12  start_year         3887 non-null   int64  \n",
      " 13  runtime_minutes    3846 non-null   float64\n",
      " 14  genres             3881 non-null   object \n",
      " 15  genre_list         3881 non-null   object \n",
      "dtypes: float64(6), int64(3), object(7)\n",
      "memory usage: 516.2+ KB\n"
     ]
    }
   ],
   "source": [
    "import pandas as pd\n",
    "\n",
    "#main_df = pd.read_csv('budget_by_genre.csv', index_col=0, dtype={'genre_list': 'list'})\n",
    "main_df = pd.read_csv('budget_by_genre.csv', index_col=0)\n",
    "\n",
    "print(main_df.info())\n",
    "\n",
    "#unfortunately, though we did this in the initial cleaning, there does not seem to be a good way to read a list from csv\n",
    "#so we duplicated the cleaning step here in order to demonstrate the exploded version below\n",
    "main_df['genre_list'] = main_df['genres'].str.split(\",\")\n",
    "\n",
    "exploded_df = main_df.explode('genre_list')\n",
    "\n",
    "exploded_df.info()"
   ]
  },
  {
   "cell_type": "markdown",
   "metadata": {},
   "source": [
    "### What is the distribution of your data?\n",
    "There are several different ways to think about the distribution of our data. Some quick distribution information by year, profit, and genre is included below:\n",
    "\n"
   ]
  },
  {
   "cell_type": "code",
   "execution_count": 35,
   "metadata": {},
   "outputs": [
    {
     "data": {
      "image/png": "[encoded data removed]",
      "text/plain": [
       "<Figure size 432x288 with 1 Axes>"
      ]
     },
     "metadata": {
      "needs_background": "light"
     },
     "output_type": "display_data"
    }
   ],
   "source": [
    "main_df.year.plot.hist(title='Distribution of Movies by Year');"
   ]
  },
  {
   "cell_type": "code",
   "execution_count": null,
   "metadata": {},
   "outputs": [],
   "source": []
  },
  {
   "cell_type": "markdown",
   "metadata": {},
   "source": [
    "### What data types do you have?\n",
    "We have numeric data on budget, runtime, gross, and profit. Year represented as integer, release_date is a datetime, and categorical data about the genres."
   ]
  },
  {
   "cell_type": "markdown",
   "metadata": {},
   "source": [
    "## Data Preparation\n",
    "### Have you looked/dealt with missing values?\n",
    "Yes, many entries present in the tn movie budgets set are not present in imdb, we used an inner join to drop these entries.  Additionally, we are missing six values for genre, and around 25 for runtime minutes. For now, we have left these in place as we are not yet using runtime minutes, but may impute runtime minutes based on mean/median if we do end up using this, and will likely either leave missing as a category or manually impute genre for the six missing entries. The small number makes this likely to be manageable.\n",
    "### Have you done any data-type conversion? ex: numerical data incorrectly 'typed' as strings.\n",
    "Yes, you can find our cleaning work in the document labeled 'Joined_EDA.ipynb' in <a href=\"https://github.com/jmillerbrooks/mod_1_git_lab\">this repo </a>\n",
    "### Does your data contain any outliers or non-sensical values?"
   ]
  },
  {
   "cell_type": "code",
   "execution_count": null,
   "metadata": {},
   "outputs": [],
   "source": []
  }
 ],
 "metadata": {
  "kernelspec": {
   "display_name": "Python 3",
   "language": "python",
   "name": "python3"
  },
  "language_info": {
   "codemirror_mode": {
    "name": "ipython",
    "version": 3
   },
   "file_extension": ".py",
   "mimetype": "text/x-python",
   "name": "python",
   "nbconvert_exporter": "python",
   "pygments_lexer": "ipython3",
   "version": "3.7.6"
  }
 },
 "nbformat": 4,
 "nbformat_minor": 4
}
