{
 "cells": [
  {
   "cell_type": "markdown",
   "metadata": {},
   "source": [
    "### Master Jupyter Notebook Must-Haves\n",
    "\n",
    "For this project, your Jupyter Notebook should meet the following specifications:\n",
    "\n",
    "#### Organization/Code Cleanliness\n",
    "\n",
    "* The notebooks should include a section that clearly outlines the questions you will be answering and the purpose of the project.\n",
    "* The notebook should be well organized, easy to follow,  and code should be commented where appropriate.  Be sure to utilize the markdown cells to provide headings for sections and include a logical sequence.  \n",
    "    * Level Up: The notebook contains well-formatted, professional looking markdown cells explaining any substantial code.  All functions have docstrings that act as professional-quality documentation\n",
    "* To make sure your notebook is clean you may want to use functions imported from external .py files.\n",
    "* The notebook is written for technical audiences with a way to both understand your approach and reproduce your results. The target audience for this deliverable is other data scientists looking to validate your findings.\n",
    "* The notebook should contain a conclusion section where you reflect back on the questions you posed and provide a recommendation for the stakeholders.\n",
    "\n"
   ]
  },
  {
   "cell_type": "markdown",
   "metadata": {},
   "source": [
    "#### Visualizations & EDA\n",
    "\n",
    "* Your project contains at least __4 meaningful data visualizations__, with corresponding interpretations. All visualizations are well labeled with axes labels, a title, and a legend (when appropriate).  There should also be some markdown text explaining the key take-aways of your visualization.  \n",
    "* You pose at least 3 meaningful questions and answer them through EDA.  These questions should be well labeled and easy to identify inside the notebook.\n",
    "    * **Level Up**: Each question is clearly answered with a visualization that makes the answer easy to understand.   \n",
    "* Your notebook should contain 1 - 2 paragraphs briefly explaining your approach to this project."
   ]
  },
  {
   "cell_type": "markdown",
   "metadata": {},
   "source": [
    "### Business Understanding\n",
    "\n",
    "- [ ] Clearly explains the real-world problem your project attempts to solve in..."
   ]
  },
  {
   "cell_type": "markdown",
   "metadata": {},
   "source": [
    "### Data Understanding\n",
    "\n",
    "- [ ] Describes the data source in...\n",
    "  - [ ] Readme\n",
    "  - [ ] Notebook\n",
    "  - [ ] Slides\n",
    "- [ ] Notebook describes properties of all variables used in project"
   ]
  },
  {
   "cell_type": "markdown",
   "metadata": {},
   "source": [
    "### Data Preparation\n",
    "\n",
    "- [ ] Notebook or `.py` file(s) include code to prepare your raw data for analysis"
   ]
  },
  {
   "cell_type": "markdown",
   "metadata": {},
   "source": [
    "### Visualizations\n",
    "\n",
    "- [ ] Are easy to read\n",
    "- [ ] Include titles, axes labels, and a legend (when appropriate)\n",
    "- [ ] Final visualizations are included and described in...\n",
    "  - [ ] Readme\n",
    "  - [ ] Notebook"
   ]
  },
  {
   "cell_type": "markdown",
   "metadata": {},
   "source": [
    "### Notebook Content\n",
    "\n",
    "- [ ] Notebook includes...\n",
    "  - [ ] Description of project goals and guiding questions\n",
    "  - [ ] Data understanding\n",
    "  - [ ] Data preparation\n",
    "  - [ ] Data visualizations\n",
    "  - [ ] A conclusion with findings and actionable recommendations"
   ]
  },
  {
   "cell_type": "code",
   "execution_count": null,
   "metadata": {},
   "outputs": [],
   "source": []
  }
 ],
 "metadata": {
  "kernelspec": {
   "display_name": "Python 3",
   "language": "python",
   "name": "python3"
  },
  "language_info": {
   "codemirror_mode": {
    "name": "ipython",
    "version": 3
   },
   "file_extension": ".py",
   "mimetype": "text/x-python",
   "name": "python",
   "nbconvert_exporter": "python",
   "pygments_lexer": "ipython3",
   "version": "3.7.6"
  }
 },
 "nbformat": 4,
 "nbformat_minor": 4
}
