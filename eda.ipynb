{
 "cells": [
  {
   "cell_type": "code",
   "execution_count": 1,
   "metadata": {},
   "outputs": [],
   "source": [
    "import pandas as pd\n",
    "import matplotlib.pyplot as plt\n",
    "%matplotlib inline"
   ]
  },
  {
   "cell_type": "code",
   "execution_count": 2,
   "metadata": {},
   "outputs": [
    {
     "data": {
      "text/plain": [
       "['./zippedData/bom.movie_gross.csv.gz',\n",
       " './zippedData/imdb.name.basics.csv.gz',\n",
       " './zippedData/imdb.title.akas.csv.gz',\n",
       " './zippedData/imdb.title.basics.csv.gz',\n",
       " './zippedData/imdb.title.crew.csv.gz',\n",
       " './zippedData/imdb.title.principals.csv.gz',\n",
       " './zippedData/imdb.title.ratings.csv.gz',\n",
       " './zippedData/rt.movie_info.tsv.gz',\n",
       " './zippedData/rt.reviews.tsv.gz',\n",
       " './zippedData/tmdb.movies.csv.gz',\n",
       " './zippedData/tn.movie_budgets.csv.gz']"
      ]
     },
     "execution_count": 2,
     "metadata": {},
     "output_type": "execute_result"
    }
   ],
   "source": [
    "zipped = !ls ./zippedData/\n",
    "zipped = list(zipped)\n",
    "path = \"./zippedData/\"\n",
    "zipped_files = [path+x for x in zipped]\n",
    "zipped_files"
   ]
  },
  {
   "cell_type": "code",
   "execution_count": 3,
   "metadata": {},
   "outputs": [],
   "source": [
    "def read_all(namelist):\n",
    "    name_dict = {}\n",
    "    for filename in namelist:\n",
    "        name = filename[13:-7]\n",
    "        if filename.endswith('csv.gz'):\n",
    "            tmp_df = pd.read_csv(filename)\n",
    "            name_dict[name] = tmp_df\n",
    "        elif filename.endswith('tsv.gz'):\n",
    "        #both tsv are encoded in ascii per cmd line and chardet, but for some reason 'latin' appears to do the trick:\n",
    "            tmp_df = pd.read_csv(filename, sep='\\t', encoding='latin')\n",
    "            name_dict[name] = tmp_df\n",
    "        #in case there are any additional files in the dir\n",
    "        else:\n",
    "            continue\n",
    "    return name_dict\n",
    "            "
   ]
  },
  {
   "cell_type": "code",
   "execution_count": 4,
   "metadata": {},
   "outputs": [
    {
     "name": "stdout",
     "output_type": "stream",
     "text": [
      "dict_keys(['bom.movie_gross', 'imdb.name.basics', 'imdb.title.akas', 'imdb.title.basics', 'imdb.title.crew', 'imdb.title.principals', 'imdb.title.ratings', 'rt.movie_info', 'rt.reviews', 'tmdb.movies', 'tn.movie_budgets'])\n"
     ]
    },
    {
     "data": {
      "text/plain": [
       "pandas.core.frame.DataFrame"
      ]
     },
     "execution_count": 4,
     "metadata": {},
     "output_type": "execute_result"
    }
   ],
   "source": [
    "df_dict = read_all(zipped_files)\n",
    "print(df_dict.keys())\n",
    "type(df_dict['bom.movie_gross'])\n"
   ]
  },
  {
   "cell_type": "code",
   "execution_count": 5,
   "metadata": {},
   "outputs": [
    {
     "name": "stdout",
     "output_type": "stream",
     "text": [
      "bom.movie_gross Index(['title', 'studio', 'domestic_gross', 'foreign_gross', 'year'], dtype='object') 3387\n",
      "imdb.name.basics Index(['nconst', 'primary_name', 'birth_year', 'death_year',\n",
      "       'primary_profession', 'known_for_titles'],\n",
      "      dtype='object') 606648\n",
      "imdb.title.akas Index(['title_id', 'ordering', 'title', 'region', 'language', 'types',\n",
      "       'attributes', 'is_original_title'],\n",
      "      dtype='object') 331703\n",
      "imdb.title.basics Index(['tconst', 'primary_title', 'original_title', 'start_year',\n",
      "       'runtime_minutes', 'genres'],\n",
      "      dtype='object') 146144\n",
      "imdb.title.crew Index(['tconst', 'directors', 'writers'], dtype='object') 146144\n",
      "imdb.title.principals Index(['tconst', 'ordering', 'nconst', 'category', 'job', 'characters'], dtype='object') 1028186\n",
      "imdb.title.ratings Index(['tconst', 'averagerating', 'numvotes'], dtype='object') 73856\n",
      "rt.movie_info Index(['id', 'synopsis', 'rating', 'genre', 'director', 'writer',\n",
      "       'theater_date', 'dvd_date', 'currency', 'box_office', 'runtime',\n",
      "       'studio'],\n",
      "      dtype='object') 1560\n",
      "rt.reviews Index(['id', 'review', 'rating', 'fresh', 'critic', 'top_critic', 'publisher',\n",
      "       'date'],\n",
      "      dtype='object') 54432\n",
      "tmdb.movies Index(['Unnamed: 0', 'genre_ids', 'id', 'original_language', 'original_title',\n",
      "       'popularity', 'release_date', 'title', 'vote_average', 'vote_count'],\n",
      "      dtype='object') 26517\n",
      "tn.movie_budgets Index(['id', 'release_date', 'movie', 'production_budget', 'domestic_gross',\n",
      "       'worldwide_gross'],\n",
      "      dtype='object') 5782\n"
     ]
    }
   ],
   "source": [
    "for df in df_dict.keys():\n",
    "    print(df, df_dict[df].columns, len(df_dict[df]))"
   ]
  },
  {
   "cell_type": "code",
   "execution_count": 6,
   "metadata": {},
   "outputs": [],
   "source": [
    "#rt.reviews.tsv does not read: error encoding\n",
    "# pd.read_csv(path+zipped_both[1], sep='\\t').head(2)\n",
    "# import chardet\n",
    "# with open(path+zipped_both[1], 'rb') as raw:\n",
    "#     result = chardet.detect(raw.read(7000))\n",
    "    \n",
    "# print(result)\n",
    "\n",
    "#interesting points: 1) you don't need to unzip before reading, 2, pandas reads the .gz with encoding ascii, but does\n",
    "#read the .tsv with same encoding, throws error, would like to know how to check the specific byte referenced as error?\n",
    "# pd.read_csv(path+zipped[16], sep='\\t', encoding='ascii',).tail(2)\n",
    "# zipped[16]"
   ]
  },
  {
   "cell_type": "code",
   "execution_count": 7,
   "metadata": {},
   "outputs": [
    {
     "data": {
      "text/plain": [
       "title              object\n",
       "studio             object\n",
       "domestic_gross    float64\n",
       "foreign_gross     float64\n",
       "year                int64\n",
       "dtype: object"
      ]
     },
     "execution_count": 7,
     "metadata": {},
     "output_type": "execute_result"
    }
   ],
   "source": [
    "bom_gross_df = df_dict['bom.movie_gross']\n",
    "bom_gross_df['foreign_gross'] = pd.to_numeric(bom_gross_df.foreign_gross.str.replace(',', ''))\n",
    "bom_gross_df.dtypes"
   ]
  },
  {
   "cell_type": "code",
   "execution_count": 8,
   "metadata": {},
   "outputs": [],
   "source": [
    "bom_gross_df['total_gross'] = bom_gross_df['domestic_gross'] + bom_gross_df['foreign_gross']"
   ]
  },
  {
   "cell_type": "code",
   "execution_count": 9,
   "metadata": {},
   "outputs": [
    {
     "data": {
      "image/png": "[encoded data removed]",
      "text/plain": [
       "<Figure size 432x288 with 1 Axes>"
      ]
     },
     "metadata": {
      "needs_background": "light"
     },
     "output_type": "display_data"
    }
   ],
   "source": [
    "bom_gross_df.total_gross.head(10).plot(kind='box');"
   ]
  },
  {
   "cell_type": "code",
   "execution_count": 10,
   "metadata": {},
   "outputs": [],
   "source": [
    "budgets_df = df_dict['tn.movie_budgets']"
   ]
  },
  {
   "cell_type": "code",
   "execution_count": 11,
   "metadata": {},
   "outputs": [
    {
     "data": {
      "text/html": [
       "<div>\n",
       "<style scoped>\n",
       "    .dataframe tbody tr th:only-of-type {\n",
       "        vertical-align: middle;\n",
       "    }\n",
       "\n",
       "    .dataframe tbody tr th {\n",
       "        vertical-align: top;\n",
       "    }\n",
       "\n",
       "    .dataframe thead th {\n",
       "        text-align: right;\n",
       "    }\n",
       "</style>\n",
       "<table border=\"1\" class=\"dataframe\">\n",
       "  <thead>\n",
       "    <tr style=\"text-align: right;\">\n",
       "      <th></th>\n",
       "      <th>id</th>\n",
       "      <th>release_date</th>\n",
       "      <th>movie</th>\n",
       "      <th>production_budget</th>\n",
       "      <th>domestic_gross</th>\n",
       "      <th>worldwide_gross</th>\n",
       "      <th>year</th>\n",
       "    </tr>\n",
       "  </thead>\n",
       "  <tbody>\n",
       "    <tr>\n",
       "      <th>0</th>\n",
       "      <td>1</td>\n",
       "      <td>Dec 18, 2009</td>\n",
       "      <td>Avatar</td>\n",
       "      <td>$425,000,000</td>\n",
       "      <td>$760,507,625</td>\n",
       "      <td>$2,776,345,279</td>\n",
       "      <td>2009</td>\n",
       "    </tr>\n",
       "    <tr>\n",
       "      <th>1</th>\n",
       "      <td>2</td>\n",
       "      <td>May 20, 2011</td>\n",
       "      <td>Pirates of the Caribbean: On Stranger Tides</td>\n",
       "      <td>$410,600,000</td>\n",
       "      <td>$241,063,875</td>\n",
       "      <td>$1,045,663,875</td>\n",
       "      <td>2011</td>\n",
       "    </tr>\n",
       "    <tr>\n",
       "      <th>2</th>\n",
       "      <td>3</td>\n",
       "      <td>Jun 7, 2019</td>\n",
       "      <td>Dark Phoenix</td>\n",
       "      <td>$350,000,000</td>\n",
       "      <td>$42,762,350</td>\n",
       "      <td>$149,762,350</td>\n",
       "      <td>2019</td>\n",
       "    </tr>\n",
       "    <tr>\n",
       "      <th>3</th>\n",
       "      <td>4</td>\n",
       "      <td>May 1, 2015</td>\n",
       "      <td>Avengers: Age of Ultron</td>\n",
       "      <td>$330,600,000</td>\n",
       "      <td>$459,005,868</td>\n",
       "      <td>$1,403,013,963</td>\n",
       "      <td>2015</td>\n",
       "    </tr>\n",
       "    <tr>\n",
       "      <th>4</th>\n",
       "      <td>5</td>\n",
       "      <td>Dec 15, 2017</td>\n",
       "      <td>Star Wars Ep. VIII: The Last Jedi</td>\n",
       "      <td>$317,000,000</td>\n",
       "      <td>$620,181,382</td>\n",
       "      <td>$1,316,721,747</td>\n",
       "      <td>2017</td>\n",
       "    </tr>\n",
       "  </tbody>\n",
       "</table>\n",
       "</div>"
      ],
      "text/plain": [
       "   id  release_date                                        movie  \\\n",
       "0   1  Dec 18, 2009                                       Avatar   \n",
       "1   2  May 20, 2011  Pirates of the Caribbean: On Stranger Tides   \n",
       "2   3   Jun 7, 2019                                 Dark Phoenix   \n",
       "3   4   May 1, 2015                      Avengers: Age of Ultron   \n",
       "4   5  Dec 15, 2017            Star Wars Ep. VIII: The Last Jedi   \n",
       "\n",
       "  production_budget domestic_gross worldwide_gross  year  \n",
       "0      $425,000,000   $760,507,625  $2,776,345,279  2009  \n",
       "1      $410,600,000   $241,063,875  $1,045,663,875  2011  \n",
       "2      $350,000,000    $42,762,350    $149,762,350  2019  \n",
       "3      $330,600,000   $459,005,868  $1,403,013,963  2015  \n",
       "4      $317,000,000   $620,181,382  $1,316,721,747  2017  "
      ]
     },
     "execution_count": 11,
     "metadata": {},
     "output_type": "execute_result"
    }
   ],
   "source": [
    "\n",
    "budgets_df['year'] = budgets_df.release_date.map(lambda x: int(x[-4:]))\n",
    "budgets_df.head()"
   ]
  },
  {
   "cell_type": "code",
   "execution_count": 12,
   "metadata": {},
   "outputs": [],
   "source": [
    "\n",
    "budgets_df['worldwide_gross'] = budgets_df.worldwide_gross.str.replace('$', '').str.replace(',', '').astype('int')"
   ]
  },
  {
   "cell_type": "code",
   "execution_count": 13,
   "metadata": {},
   "outputs": [
    {
     "data": {
      "text/plain": [
       "<matplotlib.axes._subplots.AxesSubplot at 0x7f987d19b150>"
      ]
     },
     "execution_count": 13,
     "metadata": {},
     "output_type": "execute_result"
    },
    {
     "data": {
      "image/png": "[encoded data removed]",
      "text/plain": [
       "<Figure size 432x288 with 1 Axes>"
      ]
     },
     "metadata": {
      "needs_background": "light"
     },
     "output_type": "display_data"
    }
   ],
   "source": [
    "budgets_df.worldwide_gross.head(20).plot(kind='box')"
   ]
  },
  {
   "cell_type": "code",
   "execution_count": 14,
   "metadata": {},
   "outputs": [
    {
     "data": {
      "text/plain": [
       "id                    int64\n",
       "release_date         object\n",
       "movie                object\n",
       "production_budget    object\n",
       "domestic_gross       object\n",
       "worldwide_gross       int64\n",
       "year                  int64\n",
       "dtype: object"
      ]
     },
     "execution_count": 14,
     "metadata": {},
     "output_type": "execute_result"
    }
   ],
   "source": [
    "budgets_df.dtypes"
   ]
  },
  {
   "cell_type": "code",
   "execution_count": 15,
   "metadata": {},
   "outputs": [],
   "source": [
    "budgets_df['production_budget'] = budgets_df.production_budget.str.replace('$', '').str.replace(',', '').astype('int')"
   ]
  },
  {
   "cell_type": "code",
   "execution_count": 16,
   "metadata": {},
   "outputs": [
    {
     "data": {
      "text/plain": [
       "5782"
      ]
     },
     "execution_count": 16,
     "metadata": {},
     "output_type": "execute_result"
    }
   ],
   "source": [
    "budgets_df['profit'] = budgets_df.worldwide_gross - budgets_df.production_budget\n",
    "budgets_df.sort_values(by='profit', ascending=False).head(20)\n",
    "len(budgets_df)"
   ]
  },
  {
   "cell_type": "code",
   "execution_count": 17,
   "metadata": {},
   "outputs": [
    {
     "data": {
      "text/plain": [
       "<matplotlib.axes._subplots.AxesSubplot at 0x7f987d22f6d0>"
      ]
     },
     "execution_count": 17,
     "metadata": {},
     "output_type": "execute_result"
    },
    {
     "data": {
      "image/png": "[encoded data removed]",
      "text/plain": [
       "<Figure size 432x288 with 1 Axes>"
      ]
     },
     "metadata": {
      "needs_background": "light"
     },
     "output_type": "display_data"
    }
   ],
   "source": [
    "budgets_df.profit.hist()"
   ]
  },
  {
   "cell_type": "code",
   "execution_count": 18,
   "metadata": {},
   "outputs": [
    {
     "data": {
      "text/html": [
       "<div>\n",
       "<style scoped>\n",
       "    .dataframe tbody tr th:only-of-type {\n",
       "        vertical-align: middle;\n",
       "    }\n",
       "\n",
       "    .dataframe tbody tr th {\n",
       "        vertical-align: top;\n",
       "    }\n",
       "\n",
       "    .dataframe thead th {\n",
       "        text-align: right;\n",
       "    }\n",
       "</style>\n",
       "<table border=\"1\" class=\"dataframe\">\n",
       "  <thead>\n",
       "    <tr style=\"text-align: right;\">\n",
       "      <th></th>\n",
       "      <th>id</th>\n",
       "      <th>synopsis</th>\n",
       "      <th>rating</th>\n",
       "      <th>genre_x</th>\n",
       "      <th>director</th>\n",
       "      <th>writer</th>\n",
       "      <th>theater_date</th>\n",
       "      <th>dvd_date</th>\n",
       "      <th>currency</th>\n",
       "      <th>box_office</th>\n",
       "      <th>runtime</th>\n",
       "      <th>studio</th>\n",
       "      <th>genre_y</th>\n",
       "    </tr>\n",
       "  </thead>\n",
       "  <tbody>\n",
       "    <tr>\n",
       "      <th>0</th>\n",
       "      <td>1</td>\n",
       "      <td>This gritty, fast-paced, and innovative police...</td>\n",
       "      <td>R</td>\n",
       "      <td>Action and Adventure|Classics|Drama</td>\n",
       "      <td>William Friedkin</td>\n",
       "      <td>Ernest Tidyman</td>\n",
       "      <td>Oct 9, 1971</td>\n",
       "      <td>Sep 25, 2001</td>\n",
       "      <td>NaN</td>\n",
       "      <td>NaN</td>\n",
       "      <td>104 minutes</td>\n",
       "      <td>NaN</td>\n",
       "      <td>Action and Adventure</td>\n",
       "    </tr>\n",
       "    <tr>\n",
       "      <th>0</th>\n",
       "      <td>1</td>\n",
       "      <td>This gritty, fast-paced, and innovative police...</td>\n",
       "      <td>R</td>\n",
       "      <td>Action and Adventure|Classics|Drama</td>\n",
       "      <td>William Friedkin</td>\n",
       "      <td>Ernest Tidyman</td>\n",
       "      <td>Oct 9, 1971</td>\n",
       "      <td>Sep 25, 2001</td>\n",
       "      <td>NaN</td>\n",
       "      <td>NaN</td>\n",
       "      <td>104 minutes</td>\n",
       "      <td>NaN</td>\n",
       "      <td>Classics</td>\n",
       "    </tr>\n",
       "    <tr>\n",
       "      <th>0</th>\n",
       "      <td>1</td>\n",
       "      <td>This gritty, fast-paced, and innovative police...</td>\n",
       "      <td>R</td>\n",
       "      <td>Action and Adventure|Classics|Drama</td>\n",
       "      <td>William Friedkin</td>\n",
       "      <td>Ernest Tidyman</td>\n",
       "      <td>Oct 9, 1971</td>\n",
       "      <td>Sep 25, 2001</td>\n",
       "      <td>NaN</td>\n",
       "      <td>NaN</td>\n",
       "      <td>104 minutes</td>\n",
       "      <td>NaN</td>\n",
       "      <td>Drama</td>\n",
       "    </tr>\n",
       "    <tr>\n",
       "      <th>1</th>\n",
       "      <td>3</td>\n",
       "      <td>New York City, not-too-distant-future: Eric Pa...</td>\n",
       "      <td>R</td>\n",
       "      <td>Drama|Science Fiction and Fantasy</td>\n",
       "      <td>David Cronenberg</td>\n",
       "      <td>David Cronenberg|Don DeLillo</td>\n",
       "      <td>Aug 17, 2012</td>\n",
       "      <td>Jan 1, 2013</td>\n",
       "      <td>$</td>\n",
       "      <td>600,000</td>\n",
       "      <td>108 minutes</td>\n",
       "      <td>Entertainment One</td>\n",
       "      <td>Drama</td>\n",
       "    </tr>\n",
       "    <tr>\n",
       "      <th>1</th>\n",
       "      <td>3</td>\n",
       "      <td>New York City, not-too-distant-future: Eric Pa...</td>\n",
       "      <td>R</td>\n",
       "      <td>Drama|Science Fiction and Fantasy</td>\n",
       "      <td>David Cronenberg</td>\n",
       "      <td>David Cronenberg|Don DeLillo</td>\n",
       "      <td>Aug 17, 2012</td>\n",
       "      <td>Jan 1, 2013</td>\n",
       "      <td>$</td>\n",
       "      <td>600,000</td>\n",
       "      <td>108 minutes</td>\n",
       "      <td>Entertainment One</td>\n",
       "      <td>Science Fiction and Fantasy</td>\n",
       "    </tr>\n",
       "  </tbody>\n",
       "</table>\n",
       "</div>"
      ],
      "text/plain": [
       "   id                                           synopsis rating  \\\n",
       "0   1  This gritty, fast-paced, and innovative police...      R   \n",
       "0   1  This gritty, fast-paced, and innovative police...      R   \n",
       "0   1  This gritty, fast-paced, and innovative police...      R   \n",
       "1   3  New York City, not-too-distant-future: Eric Pa...      R   \n",
       "1   3  New York City, not-too-distant-future: Eric Pa...      R   \n",
       "\n",
       "                               genre_x          director  \\\n",
       "0  Action and Adventure|Classics|Drama  William Friedkin   \n",
       "0  Action and Adventure|Classics|Drama  William Friedkin   \n",
       "0  Action and Adventure|Classics|Drama  William Friedkin   \n",
       "1    Drama|Science Fiction and Fantasy  David Cronenberg   \n",
       "1    Drama|Science Fiction and Fantasy  David Cronenberg   \n",
       "\n",
       "                         writer  theater_date      dvd_date currency  \\\n",
       "0                Ernest Tidyman   Oct 9, 1971  Sep 25, 2001      NaN   \n",
       "0                Ernest Tidyman   Oct 9, 1971  Sep 25, 2001      NaN   \n",
       "0                Ernest Tidyman   Oct 9, 1971  Sep 25, 2001      NaN   \n",
       "1  David Cronenberg|Don DeLillo  Aug 17, 2012   Jan 1, 2013        $   \n",
       "1  David Cronenberg|Don DeLillo  Aug 17, 2012   Jan 1, 2013        $   \n",
       "\n",
       "  box_office      runtime             studio                      genre_y  \n",
       "0        NaN  104 minutes                NaN         Action and Adventure  \n",
       "0        NaN  104 minutes                NaN                     Classics  \n",
       "0        NaN  104 minutes                NaN                        Drama  \n",
       "1    600,000  108 minutes  Entertainment One                        Drama  \n",
       "1    600,000  108 minutes  Entertainment One  Science Fiction and Fantasy  "
      ]
     },
     "execution_count": 18,
     "metadata": {},
     "output_type": "execute_result"
    }
   ],
   "source": [
    "movie_info_df = df_dict['rt.movie_info']\n",
    "\n",
    "genre_add_on = movie_info_df.genre.str.split('|')\n",
    "movie_info_exploded = movie_info_df.merge(genre_add_on, left_index=True, right_index=True).explode('genre_y')\n",
    "\n",
    "movie_info_exploded.head()\n",
    "#movie_info_df.columns\n",
    "#new_genres\n",
    "#movie_info_df"
   ]
  },
  {
   "cell_type": "code",
   "execution_count": 19,
   "metadata": {},
   "outputs": [
    {
     "data": {
      "text/plain": [
       "1560"
      ]
     },
     "execution_count": 19,
     "metadata": {},
     "output_type": "execute_result"
    }
   ],
   "source": [
    "len(movie_info_df)"
   ]
  },
  {
   "cell_type": "code",
   "execution_count": 20,
   "metadata": {},
   "outputs": [
    {
     "data": {
      "text/plain": [
       "dict_keys(['bom.movie_gross', 'imdb.name.basics', 'imdb.title.akas', 'imdb.title.basics', 'imdb.title.crew', 'imdb.title.principals', 'imdb.title.ratings', 'rt.movie_info', 'rt.reviews', 'tmdb.movies', 'tn.movie_budgets'])"
      ]
     },
     "execution_count": 20,
     "metadata": {},
     "output_type": "execute_result"
    }
   ],
   "source": [
    "df_dict.keys()"
   ]
  },
  {
   "cell_type": "code",
   "execution_count": 21,
   "metadata": {},
   "outputs": [
    {
     "data": {
      "text/html": [
       "<div>\n",
       "<style scoped>\n",
       "    .dataframe tbody tr th:only-of-type {\n",
       "        vertical-align: middle;\n",
       "    }\n",
       "\n",
       "    .dataframe tbody tr th {\n",
       "        vertical-align: top;\n",
       "    }\n",
       "\n",
       "    .dataframe thead th {\n",
       "        text-align: right;\n",
       "    }\n",
       "</style>\n",
       "<table border=\"1\" class=\"dataframe\">\n",
       "  <thead>\n",
       "    <tr style=\"text-align: right;\">\n",
       "      <th></th>\n",
       "      <th>tconst</th>\n",
       "      <th>primary_title</th>\n",
       "      <th>original_title</th>\n",
       "      <th>start_year</th>\n",
       "      <th>runtime_minutes</th>\n",
       "      <th>genres</th>\n",
       "      <th>genre_list</th>\n",
       "    </tr>\n",
       "  </thead>\n",
       "  <tbody>\n",
       "    <tr>\n",
       "      <th>17060</th>\n",
       "      <td>tt1775309</td>\n",
       "      <td>Avatar</td>\n",
       "      <td>Abatâ</td>\n",
       "      <td>2011</td>\n",
       "      <td>93.0</td>\n",
       "      <td>Horror</td>\n",
       "      <td>[Horror]</td>\n",
       "    </tr>\n",
       "  </tbody>\n",
       "</table>\n",
       "</div>"
      ],
      "text/plain": [
       "          tconst primary_title original_title  start_year  runtime_minutes  \\\n",
       "17060  tt1775309        Avatar          Abatâ        2011             93.0   \n",
       "\n",
       "       genres genre_list  \n",
       "17060  Horror   [Horror]  "
      ]
     },
     "execution_count": 21,
     "metadata": {},
     "output_type": "execute_result"
    }
   ],
   "source": [
    "title_basics_df = df_dict['imdb.title.basics']\n",
    "title_basics_df[title_basics_df['primary_title'] == 'Halloween']\n",
    "title_basics_df['genre_list'] = title_basics_df['genres'].str.split(',')\n",
    "title_basics_df.explode('genre_list')\n",
    "title_basics_df[title_basics_df.primary_title == 'Avatar']"
   ]
  },
  {
   "cell_type": "code",
   "execution_count": 22,
   "metadata": {},
   "outputs": [
    {
     "data": {
      "text/html": [
       "<div>\n",
       "<style scoped>\n",
       "    .dataframe tbody tr th:only-of-type {\n",
       "        vertical-align: middle;\n",
       "    }\n",
       "\n",
       "    .dataframe tbody tr th {\n",
       "        vertical-align: top;\n",
       "    }\n",
       "\n",
       "    .dataframe thead th {\n",
       "        text-align: right;\n",
       "    }\n",
       "</style>\n",
       "<table border=\"1\" class=\"dataframe\">\n",
       "  <thead>\n",
       "    <tr style=\"text-align: right;\">\n",
       "      <th></th>\n",
       "      <th>Unnamed: 0</th>\n",
       "      <th>genre_ids</th>\n",
       "      <th>id</th>\n",
       "      <th>original_language</th>\n",
       "      <th>original_title</th>\n",
       "      <th>popularity</th>\n",
       "      <th>release_date</th>\n",
       "      <th>title</th>\n",
       "      <th>vote_average</th>\n",
       "      <th>vote_count</th>\n",
       "    </tr>\n",
       "  </thead>\n",
       "  <tbody>\n",
       "    <tr>\n",
       "      <th>23894</th>\n",
       "      <td>23894</td>\n",
       "      <td>[53, 27]</td>\n",
       "      <td>424139</td>\n",
       "      <td>en</td>\n",
       "      <td>Halloween</td>\n",
       "      <td>20.839</td>\n",
       "      <td>2018-10-19</td>\n",
       "      <td>Halloween</td>\n",
       "      <td>6.4</td>\n",
       "      <td>2020</td>\n",
       "    </tr>\n",
       "  </tbody>\n",
       "</table>\n",
       "</div>"
      ],
      "text/plain": [
       "       Unnamed: 0 genre_ids      id original_language original_title  \\\n",
       "23894       23894  [53, 27]  424139                en      Halloween   \n",
       "\n",
       "       popularity release_date      title  vote_average  vote_count  \n",
       "23894      20.839   2018-10-19  Halloween           6.4        2020  "
      ]
     },
     "execution_count": 22,
     "metadata": {},
     "output_type": "execute_result"
    }
   ],
   "source": [
    "tmdb_movies_df = df_dict['tmdb.movies']\n",
    "tmdb_movies_df[tmdb_movies_df.title == 'Halloween']"
   ]
  },
  {
   "cell_type": "code",
   "execution_count": 23,
   "metadata": {},
   "outputs": [
    {
     "data": {
      "text/plain": [
       "Index(['20,000 Leagues Under the Sea', 'A Nightmare on Elm Street', 'Aladdin',\n",
       "       'Alice in Wonderland', 'Around the World in 80 Days',\n",
       "       'Beauty and the Beast', 'Ben-Hur', 'Brothers', 'Ca$h', 'Carrie',\n",
       "       'Casino Royale', 'Cat People', 'Cinderella', 'Clash of the Titans',\n",
       "       'Conan the Barbarian', 'Crash', 'Crossroads', 'Dangerous Liaisons',\n",
       "       'Dawn of the Dead', 'Day of the Dead', 'Death at a Funeral',\n",
       "       'Fantastic Four', 'Flatliners', 'Footloose', 'Friday the 13th',\n",
       "       'Ghostbusters', 'Godzilla', 'Halloween', 'Hamlet', 'Heist', 'Hellboy',\n",
       "       'Hercules', 'Home', 'House of Wax', 'King Kong', 'Left Behind',\n",
       "       'Legend', 'Life', 'Lolita', 'Night of the Living Dead', 'Notorious',\n",
       "       'Pet Sematary', 'Peter Pan', 'Peteâs Dragon', 'Pinocchio',\n",
       "       'Planet of the Apes', 'Point Break', 'Poltergeist', 'Robin Hood',\n",
       "       'RoboCop', 'Serenity', 'Shaft', 'Side Effects', 'Snitch',\n",
       "       'Teenage Mutant Ninja Turtles', 'The Alamo', 'The Avengers',\n",
       "       'The Birth of a Nation', 'The Calling', 'The Day the Earth Stood Still',\n",
       "       'The Fog', 'The Gambler', 'The Gift', 'The Great Gatsby', 'The Island',\n",
       "       'The Jungle Book', 'The Karate Kid', 'The Last House on the Left',\n",
       "       'The Love Letter', 'The Mummy', 'The Omen', 'The Signal', 'The Square',\n",
       "       'The Ten Commandments', 'The Texas Chainsaw Massacre', 'Total Recall',\n",
       "       'Trance', 'Twilight', 'Unforgettable', 'Unknown', 'Venom'],\n",
       "      dtype='object')"
      ]
     },
     "execution_count": 23,
     "metadata": {},
     "output_type": "execute_result"
    }
   ],
   "source": [
    "#There are around 80 movies that have at least one duplicate name (likely different release dates) quick check of just\n",
    "#the first one 'Halloween' in few other sets shows no duplicates, it may make sense to drop rows that do not appear\n",
    "#in other sets\n",
    "budget_duplicated_titles = budgets_df.movie.value_counts()[budgets_df.movie.value_counts() > 1]\n",
    "budgets_df[budgets_df.movie.isin(budget_duplicated_titles.index)].release_date.value_counts()\n",
    "\n",
    "budget_duplicated_titles.index.sort_values()"
   ]
  },
  {
   "cell_type": "code",
   "execution_count": 24,
   "metadata": {},
   "outputs": [
    {
     "data": {
      "text/html": [
       "<div>\n",
       "<style scoped>\n",
       "    .dataframe tbody tr th:only-of-type {\n",
       "        vertical-align: middle;\n",
       "    }\n",
       "\n",
       "    .dataframe tbody tr th {\n",
       "        vertical-align: top;\n",
       "    }\n",
       "\n",
       "    .dataframe thead th {\n",
       "        text-align: right;\n",
       "    }\n",
       "</style>\n",
       "<table border=\"1\" class=\"dataframe\">\n",
       "  <thead>\n",
       "    <tr style=\"text-align: right;\">\n",
       "      <th></th>\n",
       "      <th>id</th>\n",
       "      <th>release_date</th>\n",
       "      <th>movie</th>\n",
       "      <th>production_budget</th>\n",
       "      <th>domestic_gross</th>\n",
       "      <th>worldwide_gross</th>\n",
       "      <th>year</th>\n",
       "      <th>profit</th>\n",
       "    </tr>\n",
       "  </thead>\n",
       "  <tbody>\n",
       "    <tr>\n",
       "      <th>338</th>\n",
       "      <td>39</td>\n",
       "      <td>May 6, 2005</td>\n",
       "      <td>Kingdom of Heaven</td>\n",
       "      <td>110000000</td>\n",
       "      <td>$47,398,413</td>\n",
       "      <td>218853353</td>\n",
       "      <td>2005</td>\n",
       "      <td>108853353</td>\n",
       "    </tr>\n",
       "    <tr>\n",
       "      <th>1686</th>\n",
       "      <td>87</td>\n",
       "      <td>May 6, 2005</td>\n",
       "      <td>House of Wax</td>\n",
       "      <td>35000000</td>\n",
       "      <td>$32,064,800</td>\n",
       "      <td>70064800</td>\n",
       "      <td>2005</td>\n",
       "      <td>35064800</td>\n",
       "    </tr>\n",
       "    <tr>\n",
       "      <th>3978</th>\n",
       "      <td>79</td>\n",
       "      <td>May 6, 2005</td>\n",
       "      <td>Crash</td>\n",
       "      <td>7303082</td>\n",
       "      <td>$55,334,418</td>\n",
       "      <td>101173038</td>\n",
       "      <td>2005</td>\n",
       "      <td>93869956</td>\n",
       "    </tr>\n",
       "    <tr>\n",
       "      <th>5555</th>\n",
       "      <td>56</td>\n",
       "      <td>May 6, 2005</td>\n",
       "      <td>Fighting Tommy Riley</td>\n",
       "      <td>300000</td>\n",
       "      <td>$10,514</td>\n",
       "      <td>10514</td>\n",
       "      <td>2005</td>\n",
       "      <td>-289486</td>\n",
       "    </tr>\n",
       "  </tbody>\n",
       "</table>\n",
       "</div>"
      ],
      "text/plain": [
       "      id release_date                 movie  production_budget domestic_gross  \\\n",
       "338   39  May 6, 2005     Kingdom of Heaven          110000000    $47,398,413   \n",
       "1686  87  May 6, 2005          House of Wax           35000000    $32,064,800   \n",
       "3978  79  May 6, 2005                 Crash            7303082    $55,334,418   \n",
       "5555  56  May 6, 2005  Fighting Tommy Riley             300000        $10,514   \n",
       "\n",
       "      worldwide_gross  year     profit  \n",
       "338         218853353  2005  108853353  \n",
       "1686         70064800  2005   35064800  \n",
       "3978        101173038  2005   93869956  \n",
       "5555            10514  2005    -289486  "
      ]
     },
     "execution_count": 24,
     "metadata": {},
     "output_type": "execute_result"
    }
   ],
   "source": [
    "#confirming there are no duplicated release dates in the duplicated titles (there are not):\n",
    "budgets_df[budgets_df.release_date == 'Aug 7, 2015']\n",
    "budgets_df[budgets_df.release_date == 'Dec 31, 2012']\n",
    "budgets_df[budgets_df.release_date == 'May 6, 2005']"
   ]
  },
  {
   "cell_type": "code",
   "execution_count": 25,
   "metadata": {},
   "outputs": [
    {
     "name": "stdout",
     "output_type": "stream",
     "text": [
      "3815 1547 5782\n"
     ]
    }
   ],
   "source": [
    "merged_no_year = budgets_df.merge(title_basics_df, left_on='movie', right_on='primary_title')\n",
    "merged_with_year = budgets_df.merge(title_basics_df, left_on=['movie', 'year'], right_on=['primary_title', 'start_year'])\n",
    "\n",
    "\n",
    "print(len(merged_no_year), len(merged_with_year), len(budgets_df))"
   ]
  },
  {
   "cell_type": "code",
   "execution_count": 67,
   "metadata": {},
   "outputs": [
    {
     "data": {
      "text/html": [
       "<div>\n",
       "<style scoped>\n",
       "    .dataframe tbody tr th:only-of-type {\n",
       "        vertical-align: middle;\n",
       "    }\n",
       "\n",
       "    .dataframe tbody tr th {\n",
       "        vertical-align: top;\n",
       "    }\n",
       "\n",
       "    .dataframe thead tr th {\n",
       "        text-align: left;\n",
       "    }\n",
       "\n",
       "    .dataframe thead tr:last-of-type th {\n",
       "        text-align: right;\n",
       "    }\n",
       "</style>\n",
       "<table border=\"1\" class=\"dataframe\">\n",
       "  <thead>\n",
       "    <tr>\n",
       "      <th></th>\n",
       "      <th colspan=\"10\" halign=\"left\">count</th>\n",
       "      <th>...</th>\n",
       "      <th colspan=\"10\" halign=\"left\">mean</th>\n",
       "    </tr>\n",
       "    <tr>\n",
       "      <th>genre_list</th>\n",
       "      <th>Action</th>\n",
       "      <th>Adventure</th>\n",
       "      <th>Animation</th>\n",
       "      <th>Biography</th>\n",
       "      <th>Comedy</th>\n",
       "      <th>Crime</th>\n",
       "      <th>Documentary</th>\n",
       "      <th>Drama</th>\n",
       "      <th>Family</th>\n",
       "      <th>Fantasy</th>\n",
       "      <th>...</th>\n",
       "      <th>Musical</th>\n",
       "      <th>Mystery</th>\n",
       "      <th>Reality-TV</th>\n",
       "      <th>Romance</th>\n",
       "      <th>Sci-Fi</th>\n",
       "      <th>Sport</th>\n",
       "      <th>Thriller</th>\n",
       "      <th>War</th>\n",
       "      <th>Western</th>\n",
       "      <th>All</th>\n",
       "    </tr>\n",
       "    <tr>\n",
       "      <th>year</th>\n",
       "      <th></th>\n",
       "      <th></th>\n",
       "      <th></th>\n",
       "      <th></th>\n",
       "      <th></th>\n",
       "      <th></th>\n",
       "      <th></th>\n",
       "      <th></th>\n",
       "      <th></th>\n",
       "      <th></th>\n",
       "      <th></th>\n",
       "      <th></th>\n",
       "      <th></th>\n",
       "      <th></th>\n",
       "      <th></th>\n",
       "      <th></th>\n",
       "      <th></th>\n",
       "      <th></th>\n",
       "      <th></th>\n",
       "      <th></th>\n",
       "      <th></th>\n",
       "    </tr>\n",
       "  </thead>\n",
       "  <tbody>\n",
       "    <tr>\n",
       "      <th>2010</th>\n",
       "      <td>47.0</td>\n",
       "      <td>34.0</td>\n",
       "      <td>8.0</td>\n",
       "      <td>9.0</td>\n",
       "      <td>74.0</td>\n",
       "      <td>25.0</td>\n",
       "      <td>6.0</td>\n",
       "      <td>84.0</td>\n",
       "      <td>21.0</td>\n",
       "      <td>17.0</td>\n",
       "      <td>...</td>\n",
       "      <td>2.853252e+08</td>\n",
       "      <td>4.123649e+07</td>\n",
       "      <td>NaN</td>\n",
       "      <td>4.572817e+07</td>\n",
       "      <td>1.431730e+08</td>\n",
       "      <td>6.406503e+07</td>\n",
       "      <td>6.134622e+07</td>\n",
       "      <td>6.313593e+07</td>\n",
       "      <td>9.189563e+07</td>\n",
       "      <td>8.514766e+07</td>\n",
       "    </tr>\n",
       "    <tr>\n",
       "      <th>2011</th>\n",
       "      <td>49.0</td>\n",
       "      <td>37.0</td>\n",
       "      <td>14.0</td>\n",
       "      <td>10.0</td>\n",
       "      <td>67.0</td>\n",
       "      <td>22.0</td>\n",
       "      <td>5.0</td>\n",
       "      <td>86.0</td>\n",
       "      <td>11.0</td>\n",
       "      <td>15.0</td>\n",
       "      <td>...</td>\n",
       "      <td>NaN</td>\n",
       "      <td>9.847266e+07</td>\n",
       "      <td>NaN</td>\n",
       "      <td>4.841915e+07</td>\n",
       "      <td>1.471240e+08</td>\n",
       "      <td>1.901895e+07</td>\n",
       "      <td>5.684657e+07</td>\n",
       "      <td>1.430810e+07</td>\n",
       "      <td>-3.282693e+06</td>\n",
       "      <td>7.658402e+07</td>\n",
       "    </tr>\n",
       "    <tr>\n",
       "      <th>2012</th>\n",
       "      <td>45.0</td>\n",
       "      <td>33.0</td>\n",
       "      <td>11.0</td>\n",
       "      <td>6.0</td>\n",
       "      <td>67.0</td>\n",
       "      <td>24.0</td>\n",
       "      <td>4.0</td>\n",
       "      <td>74.0</td>\n",
       "      <td>8.0</td>\n",
       "      <td>13.0</td>\n",
       "      <td>...</td>\n",
       "      <td>-5.482816e+06</td>\n",
       "      <td>4.774557e+07</td>\n",
       "      <td>NaN</td>\n",
       "      <td>4.538176e+07</td>\n",
       "      <td>2.807598e+08</td>\n",
       "      <td>1.793359e+06</td>\n",
       "      <td>1.138945e+08</td>\n",
       "      <td>-1.973745e+06</td>\n",
       "      <td>1.761976e+08</td>\n",
       "      <td>1.070730e+08</td>\n",
       "    </tr>\n",
       "    <tr>\n",
       "      <th>2013</th>\n",
       "      <td>46.0</td>\n",
       "      <td>40.0</td>\n",
       "      <td>11.0</td>\n",
       "      <td>14.0</td>\n",
       "      <td>53.0</td>\n",
       "      <td>33.0</td>\n",
       "      <td>7.0</td>\n",
       "      <td>90.0</td>\n",
       "      <td>10.0</td>\n",
       "      <td>15.0</td>\n",
       "      <td>...</td>\n",
       "      <td>4.252747e+07</td>\n",
       "      <td>7.543012e+07</td>\n",
       "      <td>NaN</td>\n",
       "      <td>2.505460e+07</td>\n",
       "      <td>2.493909e+08</td>\n",
       "      <td>2.420764e+07</td>\n",
       "      <td>5.792755e+07</td>\n",
       "      <td>2.363009e+07</td>\n",
       "      <td>-1.499788e+07</td>\n",
       "      <td>9.746501e+07</td>\n",
       "    </tr>\n",
       "    <tr>\n",
       "      <th>2014</th>\n",
       "      <td>55.0</td>\n",
       "      <td>40.0</td>\n",
       "      <td>11.0</td>\n",
       "      <td>18.0</td>\n",
       "      <td>56.0</td>\n",
       "      <td>31.0</td>\n",
       "      <td>14.0</td>\n",
       "      <td>96.0</td>\n",
       "      <td>11.0</td>\n",
       "      <td>11.0</td>\n",
       "      <td>...</td>\n",
       "      <td>-1.000000e+06</td>\n",
       "      <td>9.572394e+07</td>\n",
       "      <td>NaN</td>\n",
       "      <td>3.916296e+07</td>\n",
       "      <td>2.750073e+08</td>\n",
       "      <td>2.645626e+07</td>\n",
       "      <td>6.583649e+07</td>\n",
       "      <td>1.167323e+08</td>\n",
       "      <td>-3.674244e+06</td>\n",
       "      <td>1.020582e+08</td>\n",
       "    </tr>\n",
       "    <tr>\n",
       "      <th>2015</th>\n",
       "      <td>57.0</td>\n",
       "      <td>39.0</td>\n",
       "      <td>9.0</td>\n",
       "      <td>19.0</td>\n",
       "      <td>65.0</td>\n",
       "      <td>36.0</td>\n",
       "      <td>7.0</td>\n",
       "      <td>100.0</td>\n",
       "      <td>10.0</td>\n",
       "      <td>11.0</td>\n",
       "      <td>...</td>\n",
       "      <td>NaN</td>\n",
       "      <td>2.835359e+07</td>\n",
       "      <td>NaN</td>\n",
       "      <td>4.755788e+07</td>\n",
       "      <td>2.319102e+08</td>\n",
       "      <td>2.887019e+07</td>\n",
       "      <td>8.915628e+07</td>\n",
       "      <td>-6.922274e+06</td>\n",
       "      <td>-6.000000e+07</td>\n",
       "      <td>8.999082e+07</td>\n",
       "    </tr>\n",
       "    <tr>\n",
       "      <th>2016</th>\n",
       "      <td>57.0</td>\n",
       "      <td>44.0</td>\n",
       "      <td>13.0</td>\n",
       "      <td>23.0</td>\n",
       "      <td>52.0</td>\n",
       "      <td>22.0</td>\n",
       "      <td>5.0</td>\n",
       "      <td>80.0</td>\n",
       "      <td>9.0</td>\n",
       "      <td>12.0</td>\n",
       "      <td>...</td>\n",
       "      <td>NaN</td>\n",
       "      <td>6.415274e+07</td>\n",
       "      <td>-1000000.0</td>\n",
       "      <td>3.793003e+07</td>\n",
       "      <td>3.255403e+08</td>\n",
       "      <td>1.187901e+07</td>\n",
       "      <td>3.984957e+07</td>\n",
       "      <td>-1.952338e+07</td>\n",
       "      <td>7.252516e+07</td>\n",
       "      <td>1.200102e+08</td>\n",
       "    </tr>\n",
       "    <tr>\n",
       "      <th>2017</th>\n",
       "      <td>37.0</td>\n",
       "      <td>32.0</td>\n",
       "      <td>12.0</td>\n",
       "      <td>14.0</td>\n",
       "      <td>38.0</td>\n",
       "      <td>15.0</td>\n",
       "      <td>5.0</td>\n",
       "      <td>64.0</td>\n",
       "      <td>3.0</td>\n",
       "      <td>14.0</td>\n",
       "      <td>...</td>\n",
       "      <td>7.009326e+08</td>\n",
       "      <td>1.089014e+08</td>\n",
       "      <td>NaN</td>\n",
       "      <td>4.438688e+07</td>\n",
       "      <td>1.862439e+08</td>\n",
       "      <td>NaN</td>\n",
       "      <td>1.528003e+08</td>\n",
       "      <td>-1.520426e+07</td>\n",
       "      <td>NaN</td>\n",
       "      <td>1.571287e+08</td>\n",
       "    </tr>\n",
       "    <tr>\n",
       "      <th>2018</th>\n",
       "      <td>43.0</td>\n",
       "      <td>38.0</td>\n",
       "      <td>8.0</td>\n",
       "      <td>17.0</td>\n",
       "      <td>36.0</td>\n",
       "      <td>24.0</td>\n",
       "      <td>1.0</td>\n",
       "      <td>53.0</td>\n",
       "      <td>8.0</td>\n",
       "      <td>12.0</td>\n",
       "      <td>...</td>\n",
       "      <td>NaN</td>\n",
       "      <td>3.633662e+07</td>\n",
       "      <td>NaN</td>\n",
       "      <td>8.914432e+07</td>\n",
       "      <td>3.809233e+08</td>\n",
       "      <td>9.605934e+07</td>\n",
       "      <td>1.144193e+08</td>\n",
       "      <td>8.883050e+05</td>\n",
       "      <td>NaN</td>\n",
       "      <td>1.495556e+08</td>\n",
       "    </tr>\n",
       "    <tr>\n",
       "      <th>2019</th>\n",
       "      <td>15.0</td>\n",
       "      <td>15.0</td>\n",
       "      <td>4.0</td>\n",
       "      <td>5.0</td>\n",
       "      <td>11.0</td>\n",
       "      <td>3.0</td>\n",
       "      <td>NaN</td>\n",
       "      <td>16.0</td>\n",
       "      <td>3.0</td>\n",
       "      <td>4.0</td>\n",
       "      <td>...</td>\n",
       "      <td>NaN</td>\n",
       "      <td>2.796568e+07</td>\n",
       "      <td>NaN</td>\n",
       "      <td>4.237578e+07</td>\n",
       "      <td>1.960773e+08</td>\n",
       "      <td>NaN</td>\n",
       "      <td>5.722475e+07</td>\n",
       "      <td>NaN</td>\n",
       "      <td>NaN</td>\n",
       "      <td>7.399587e+07</td>\n",
       "    </tr>\n",
       "    <tr>\n",
       "      <th>2020</th>\n",
       "      <td>NaN</td>\n",
       "      <td>1.0</td>\n",
       "      <td>1.0</td>\n",
       "      <td>NaN</td>\n",
       "      <td>NaN</td>\n",
       "      <td>NaN</td>\n",
       "      <td>NaN</td>\n",
       "      <td>NaN</td>\n",
       "      <td>1.0</td>\n",
       "      <td>NaN</td>\n",
       "      <td>...</td>\n",
       "      <td>NaN</td>\n",
       "      <td>NaN</td>\n",
       "      <td>NaN</td>\n",
       "      <td>NaN</td>\n",
       "      <td>NaN</td>\n",
       "      <td>NaN</td>\n",
       "      <td>NaN</td>\n",
       "      <td>NaN</td>\n",
       "      <td>NaN</td>\n",
       "      <td>-8.200000e+07</td>\n",
       "    </tr>\n",
       "    <tr>\n",
       "      <th>All</th>\n",
       "      <td>451.0</td>\n",
       "      <td>353.0</td>\n",
       "      <td>102.0</td>\n",
       "      <td>135.0</td>\n",
       "      <td>519.0</td>\n",
       "      <td>235.0</td>\n",
       "      <td>54.0</td>\n",
       "      <td>743.0</td>\n",
       "      <td>95.0</td>\n",
       "      <td>124.0</td>\n",
       "      <td>...</td>\n",
       "      <td>2.542670e+08</td>\n",
       "      <td>6.355435e+07</td>\n",
       "      <td>-1000000.0</td>\n",
       "      <td>4.531961e+07</td>\n",
       "      <td>2.491171e+08</td>\n",
       "      <td>2.743581e+07</td>\n",
       "      <td>7.978515e+07</td>\n",
       "      <td>2.951713e+07</td>\n",
       "      <td>4.721894e+07</td>\n",
       "      <td>1.050770e+08</td>\n",
       "    </tr>\n",
       "  </tbody>\n",
       "</table>\n",
       "<p>12 rows × 69 columns</p>\n",
       "</div>"
      ],
      "text/plain": [
       "            count                                                          \\\n",
       "genre_list Action Adventure Animation Biography Comedy  Crime Documentary   \n",
       "year                                                                        \n",
       "2010         47.0      34.0       8.0       9.0   74.0   25.0         6.0   \n",
       "2011         49.0      37.0      14.0      10.0   67.0   22.0         5.0   \n",
       "2012         45.0      33.0      11.0       6.0   67.0   24.0         4.0   \n",
       "2013         46.0      40.0      11.0      14.0   53.0   33.0         7.0   \n",
       "2014         55.0      40.0      11.0      18.0   56.0   31.0        14.0   \n",
       "2015         57.0      39.0       9.0      19.0   65.0   36.0         7.0   \n",
       "2016         57.0      44.0      13.0      23.0   52.0   22.0         5.0   \n",
       "2017         37.0      32.0      12.0      14.0   38.0   15.0         5.0   \n",
       "2018         43.0      38.0       8.0      17.0   36.0   24.0         1.0   \n",
       "2019         15.0      15.0       4.0       5.0   11.0    3.0         NaN   \n",
       "2020          NaN       1.0       1.0       NaN    NaN    NaN         NaN   \n",
       "All         451.0     353.0     102.0     135.0  519.0  235.0        54.0   \n",
       "\n",
       "                                  ...          mean                           \\\n",
       "genre_list  Drama Family Fantasy  ...       Musical       Mystery Reality-TV   \n",
       "year                              ...                                          \n",
       "2010         84.0   21.0    17.0  ...  2.853252e+08  4.123649e+07        NaN   \n",
       "2011         86.0   11.0    15.0  ...           NaN  9.847266e+07        NaN   \n",
       "2012         74.0    8.0    13.0  ... -5.482816e+06  4.774557e+07        NaN   \n",
       "2013         90.0   10.0    15.0  ...  4.252747e+07  7.543012e+07        NaN   \n",
       "2014         96.0   11.0    11.0  ... -1.000000e+06  9.572394e+07        NaN   \n",
       "2015        100.0   10.0    11.0  ...           NaN  2.835359e+07        NaN   \n",
       "2016         80.0    9.0    12.0  ...           NaN  6.415274e+07 -1000000.0   \n",
       "2017         64.0    3.0    14.0  ...  7.009326e+08  1.089014e+08        NaN   \n",
       "2018         53.0    8.0    12.0  ...           NaN  3.633662e+07        NaN   \n",
       "2019         16.0    3.0     4.0  ...           NaN  2.796568e+07        NaN   \n",
       "2020          NaN    1.0     NaN  ...           NaN           NaN        NaN   \n",
       "All         743.0   95.0   124.0  ...  2.542670e+08  6.355435e+07 -1000000.0   \n",
       "\n",
       "                                                                    \\\n",
       "genre_list       Romance        Sci-Fi         Sport      Thriller   \n",
       "year                                                                 \n",
       "2010        4.572817e+07  1.431730e+08  6.406503e+07  6.134622e+07   \n",
       "2011        4.841915e+07  1.471240e+08  1.901895e+07  5.684657e+07   \n",
       "2012        4.538176e+07  2.807598e+08  1.793359e+06  1.138945e+08   \n",
       "2013        2.505460e+07  2.493909e+08  2.420764e+07  5.792755e+07   \n",
       "2014        3.916296e+07  2.750073e+08  2.645626e+07  6.583649e+07   \n",
       "2015        4.755788e+07  2.319102e+08  2.887019e+07  8.915628e+07   \n",
       "2016        3.793003e+07  3.255403e+08  1.187901e+07  3.984957e+07   \n",
       "2017        4.438688e+07  1.862439e+08           NaN  1.528003e+08   \n",
       "2018        8.914432e+07  3.809233e+08  9.605934e+07  1.144193e+08   \n",
       "2019        4.237578e+07  1.960773e+08           NaN  5.722475e+07   \n",
       "2020                 NaN           NaN           NaN           NaN   \n",
       "All         4.531961e+07  2.491171e+08  2.743581e+07  7.978515e+07   \n",
       "\n",
       "                                                      \n",
       "genre_list           War       Western           All  \n",
       "year                                                  \n",
       "2010        6.313593e+07  9.189563e+07  8.514766e+07  \n",
       "2011        1.430810e+07 -3.282693e+06  7.658402e+07  \n",
       "2012       -1.973745e+06  1.761976e+08  1.070730e+08  \n",
       "2013        2.363009e+07 -1.499788e+07  9.746501e+07  \n",
       "2014        1.167323e+08 -3.674244e+06  1.020582e+08  \n",
       "2015       -6.922274e+06 -6.000000e+07  8.999082e+07  \n",
       "2016       -1.952338e+07  7.252516e+07  1.200102e+08  \n",
       "2017       -1.520426e+07           NaN  1.571287e+08  \n",
       "2018        8.883050e+05           NaN  1.495556e+08  \n",
       "2019                 NaN           NaN  7.399587e+07  \n",
       "2020                 NaN           NaN -8.200000e+07  \n",
       "All         2.951713e+07  4.721894e+07  1.050770e+08  \n",
       "\n",
       "[12 rows x 69 columns]"
      ]
     },
     "execution_count": 67,
     "metadata": {},
     "output_type": "execute_result"
    },
    {
     "data": {
      "image/png": "[encoded data removed]",
      "text/plain": [
       "<Figure size 432x288 with 1 Axes>"
      ]
     },
     "metadata": {
      "needs_background": "light"
     },
     "output_type": "display_data"
    }
   ],
   "source": [
    "#merged_with_year.plot.scatter('year', 'profit', label='movie')\n",
    "col_locs = list(range(1,8))\n",
    "col_locs.append(10)\n",
    "col_locs.append(-1)\n",
    "merged_with_year.head()\n",
    "\n",
    "merged_with_year.explode('genre_list').genre_list.value_counts().plot.bar()\n",
    "\n",
    "merged_with_year.explode('genre_list').iloc[1:,col_locs].pivot_table(index='year', values='profit', columns='genre_list', aggfunc=['count','max','mean'], margins='true')\n",
    "# merged_with_year.columns\n"
   ]
  },
  {
   "cell_type": "code",
   "execution_count": null,
   "metadata": {},
   "outputs": [],
   "source": []
  }
 ],
 "metadata": {
  "kernelspec": {
   "display_name": "Python 3",
   "language": "python",
   "name": "python3"
  },
  "language_info": {
   "codemirror_mode": {
    "name": "ipython",
    "version": 3
   },
   "file_extension": ".py",
   "mimetype": "text/x-python",
   "name": "python",
   "nbconvert_exporter": "python",
   "pygments_lexer": "ipython3",
   "version": "3.7.6"
  }
 },
 "nbformat": 4,
 "nbformat_minor": 4
}
